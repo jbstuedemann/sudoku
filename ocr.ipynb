{
 "cells": [
  {
   "cell_type": "code",
   "execution_count": 1,
   "metadata": {},
   "outputs": [],
   "source": [
    "import tensorflow as tf\n",
    "import numpy as np\n",
    "import create_training_data as ctd"
   ]
  },
  {
   "cell_type": "code",
   "execution_count": 2,
   "metadata": {},
   "outputs": [
    {
     "data": {
      "text/plain": [
       "True"
      ]
     },
     "execution_count": 2,
     "metadata": {},
     "output_type": "execute_result"
    }
   ],
   "source": [
    "tf.config.list_physical_devices('GPU').__len__() > 0"
   ]
  },
  {
   "cell_type": "code",
   "execution_count": 3,
   "metadata": {},
   "outputs": [],
   "source": [
    "((trainData, trainLabels), (testData, testLabels)) = ctd.loadData()"
   ]
  },
  {
   "cell_type": "code",
   "execution_count": 4,
   "metadata": {},
   "outputs": [],
   "source": [
    "def makeLabelVector(number):\n",
    "    out = np.zeros(10)\n",
    "    out[number] = 1\n",
    "    return np.array(out)\n",
    "\n",
    "trainData = trainData.reshape((trainData.shape[0], 128, 128, 1))\n",
    "testData = testData.reshape((testData.shape[0], 128, 128, 1))\n",
    "trainData = trainData.astype(\"float32\") / 255.0\n",
    "testData = testData.astype(\"float32\") / 255.0"
   ]
  },
  {
   "cell_type": "code",
   "execution_count": 5,
   "metadata": {},
   "outputs": [
    {
     "name": "stdout",
     "output_type": "stream",
     "text": [
      "Metal device set to: Apple M1\n",
      "\n",
      "systemMemory: 16.00 GB\n",
      "maxCacheSize: 5.33 GB\n",
      "\n"
     ]
    },
    {
     "name": "stderr",
     "output_type": "stream",
     "text": [
      "2022-03-15 15:19:21.159941: I tensorflow/core/common_runtime/pluggable_device/pluggable_device_factory.cc:305] Could not identify NUMA node of platform GPU ID 0, defaulting to 0. Your kernel may not have been built with NUMA support.\n",
      "2022-03-15 15:19:21.160211: I tensorflow/core/common_runtime/pluggable_device/pluggable_device_factory.cc:271] Created TensorFlow device (/job:localhost/replica:0/task:0/device:GPU:0 with 0 MB memory) -> physical PluggableDevice (device: 0, name: METAL, pci bus id: <undefined>)\n"
     ]
    }
   ],
   "source": [
    "model = tf.keras.models.Sequential([\n",
    "    tf.keras.layers.Conv2D(32, (5, 5), input_shape=(128, 128, 1)),\n",
    "    tf.keras.layers.Activation(\"relu\"),\n",
    "    tf.keras.layers.MaxPool2D(pool_size=(2, 2)),\n",
    "    tf.keras.layers.Conv2D(32, (3, 3)),\n",
    "    tf.keras.layers.Activation(\"relu\"),\n",
    "    tf.keras.layers.Flatten(),\n",
    "    tf.keras.layers.Dense(512),\n",
    "    tf.keras.layers.Activation(\"relu\"),\n",
    "    tf.keras.layers.Dense(10),\n",
    "    tf.keras.layers.Activation(\"softmax\")\n",
    "])"
   ]
  },
  {
   "cell_type": "code",
   "execution_count": 6,
   "metadata": {},
   "outputs": [],
   "source": [
    "model.compile(\n",
    "    optimizer=tf.keras.optimizers.Adam(0.001),\n",
    "    loss=tf.keras.losses.SparseCategoricalCrossentropy(from_logits=True),\n",
    "    metrics=[tf.keras.metrics.SparseCategoricalAccuracy()],\n",
    ")"
   ]
  },
  {
   "cell_type": "code",
   "execution_count": 7,
   "metadata": {},
   "outputs": [
    {
     "name": "stdout",
     "output_type": "stream",
     "text": [
      "Epoch 1/10\n"
     ]
    },
    {
     "name": "stderr",
     "output_type": "stream",
     "text": [
      "2022-03-15 15:19:21.442925: W tensorflow/core/platform/profile_utils/cpu_utils.cc:128] Failed to get CPU frequency: 0 Hz\n",
      "/Users/jbstuede/miniforge3/envs/ml/lib/python3.8/site-packages/tensorflow/python/util/dispatch.py:1082: UserWarning: \"`sparse_categorical_crossentropy` received `from_logits=True`, but the `output` argument was produced by a sigmoid or softmax activation and thus does not represent logits. Was this intended?\"\n",
      "  return dispatch_target(*args, **kwargs)\n",
      "2022-03-15 15:19:21.641776: I tensorflow/core/grappler/optimizers/custom_graph_optimizer_registry.cc:113] Plugin optimizer for device_type GPU is enabled.\n"
     ]
    },
    {
     "name": "stdout",
     "output_type": "stream",
     "text": [
      "40/40 [==============================] - ETA: 0s - loss: 2.2380 - sparse_categorical_accuracy: 0.1522"
     ]
    },
    {
     "name": "stderr",
     "output_type": "stream",
     "text": [
      "2022-03-15 15:19:32.040908: I tensorflow/core/grappler/optimizers/custom_graph_optimizer_registry.cc:113] Plugin optimizer for device_type GPU is enabled.\n"
     ]
    },
    {
     "name": "stdout",
     "output_type": "stream",
     "text": [
      "40/40 [==============================] - 12s 279ms/step - loss: 2.2380 - sparse_categorical_accuracy: 0.1522 - val_loss: 2.1527 - val_sparse_categorical_accuracy: 0.1320\n",
      "Epoch 2/10\n",
      "40/40 [==============================] - 11s 273ms/step - loss: 1.4775 - sparse_categorical_accuracy: 0.6632 - val_loss: 0.4344 - val_sparse_categorical_accuracy: 0.9490\n",
      "Epoch 3/10\n",
      "40/40 [==============================] - 11s 271ms/step - loss: 0.1300 - sparse_categorical_accuracy: 0.9868 - val_loss: 0.0490 - val_sparse_categorical_accuracy: 0.9980\n",
      "Epoch 4/10\n",
      "40/40 [==============================] - 11s 270ms/step - loss: 0.0130 - sparse_categorical_accuracy: 0.9996 - val_loss: 0.0061 - val_sparse_categorical_accuracy: 1.0000\n",
      "Epoch 5/10\n",
      "40/40 [==============================] - 11s 271ms/step - loss: 0.0085 - sparse_categorical_accuracy: 0.9998 - val_loss: 0.1085 - val_sparse_categorical_accuracy: 0.9980\n",
      "Epoch 6/10\n",
      "40/40 [==============================] - 11s 270ms/step - loss: 0.0266 - sparse_categorical_accuracy: 0.9998 - val_loss: 0.0019 - val_sparse_categorical_accuracy: 1.0000\n",
      "Epoch 7/10\n",
      "40/40 [==============================] - 11s 270ms/step - loss: 0.0015 - sparse_categorical_accuracy: 1.0000 - val_loss: 0.0011 - val_sparse_categorical_accuracy: 1.0000\n",
      "Epoch 8/10\n",
      "40/40 [==============================] - 11s 269ms/step - loss: 9.8890e-04 - sparse_categorical_accuracy: 1.0000 - val_loss: 8.5430e-04 - val_sparse_categorical_accuracy: 1.0000\n",
      "Epoch 9/10\n",
      "40/40 [==============================] - 11s 269ms/step - loss: 7.6173e-04 - sparse_categorical_accuracy: 1.0000 - val_loss: 6.3782e-04 - val_sparse_categorical_accuracy: 1.0000\n",
      "Epoch 10/10\n",
      "40/40 [==============================] - 11s 270ms/step - loss: 5.9610e-04 - sparse_categorical_accuracy: 1.0000 - val_loss: 5.3344e-04 - val_sparse_categorical_accuracy: 1.0000\n"
     ]
    },
    {
     "data": {
      "text/plain": [
       "<keras.callbacks.History at 0x2861efdf0>"
      ]
     },
     "execution_count": 7,
     "metadata": {},
     "output_type": "execute_result"
    }
   ],
   "source": [
    "model.fit(\n",
    "\ttrainData, trainLabels,\n",
    "\tvalidation_data=(testData, testLabels),\n",
    "\tbatch_size=128,\n",
    "\tepochs=10,\n",
    "\tverbose=1\n",
    ")"
   ]
  },
  {
   "cell_type": "code",
   "execution_count": 8,
   "metadata": {},
   "outputs": [],
   "source": [
    "model.save(\"ocr.h5\", save_format=\"h5\")"
   ]
  }
 ],
 "metadata": {
  "interpreter": {
   "hash": "5dfb895725d420eb70288b58825a5ad72335172ed459b55295e77340f839549f"
  },
  "kernelspec": {
   "display_name": "Python 3.8.12 ('ml')",
   "language": "python",
   "name": "python3"
  },
  "language_info": {
   "codemirror_mode": {
    "name": "ipython",
    "version": 3
   },
   "file_extension": ".py",
   "mimetype": "text/x-python",
   "name": "python",
   "nbconvert_exporter": "python",
   "pygments_lexer": "ipython3",
   "version": "3.8.12"
  },
  "orig_nbformat": 4
 },
 "nbformat": 4,
 "nbformat_minor": 2
}
